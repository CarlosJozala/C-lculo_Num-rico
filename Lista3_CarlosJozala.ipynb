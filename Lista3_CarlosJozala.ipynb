{
  "nbformat": 4,
  "nbformat_minor": 0,
  "metadata": {
    "colab": {
      "provenance": [],
      "authorship_tag": "ABX9TyMZd8rVxX3GsAtRtkDNL1CO",
      "include_colab_link": true
    },
    "kernelspec": {
      "name": "python3",
      "display_name": "Python 3"
    },
    "language_info": {
      "name": "python"
    }
  },
  "cells": [
    {
      "cell_type": "markdown",
      "metadata": {
        "id": "view-in-github",
        "colab_type": "text"
      },
      "source": [
        "<a href=\"https://colab.research.google.com/github/CarlosJozala/Calculo_Numerico/blob/main/Lista3_CarlosJozala.ipynb\" target=\"_parent\"><img src=\"https://colab.research.google.com/assets/colab-badge.svg\" alt=\"Open In Colab\"/></a>"
      ]
    },
    {
      "cell_type": "markdown",
      "source": [
        "Exercícios da Lista 3 - Estrutura de Repetição\n",
        "\n",
        "*  Aluno: Carlos Eduardo da Silva Jozala\n",
        "*  Matrícula: 2015290029\n",
        "\n"
      ],
      "metadata": {
        "id": "41fh1-k9BjvH"
      }
    },
    {
      "cell_type": "code",
      "execution_count": null,
      "metadata": {
        "id": "B9Kbzf7ewzAN"
      },
      "outputs": [],
      "source": [
        "#Questão 1 - Lista 3\n",
        "\n",
        "# Contadores para números negativos, positivos e zero\n",
        "negativos = 0\n",
        "positivos = 0\n",
        "zero = 0\n",
        "\n",
        "# Loop para ler os valores de A\n",
        "for i in range(255):\n",
        "    valor = float(input(\"Insira um valor para A: \"))\n",
        "    if valor < 0:\n",
        "        negativos += 1\n",
        "    elif valor > 0:\n",
        "        positivos += 1\n",
        "    else:\n",
        "        zero += 1\n",
        "\n",
        "# Exibe o número de valores negativos, positivos e zero\n",
        "print(\"Número de valores negativos:\", negativos)\n",
        "print(\"Número de valores positivos:\", positivos)\n",
        "print(\"Número de valores zero:\", zero)\n"
      ]
    },
    {
      "cell_type": "code",
      "source": [
        "# Questão 2 - Lista 3\n",
        "def fatorial(n):\n",
        "  if n == 0 or n == 1:\n",
        "    return 1\n",
        "  else:\n",
        "    return n * fatorial(n-1)\n",
        "\n",
        "n = int(input(\"Insira um valor inteiro e positivo para calcular o fatorial: \"))\n",
        "resultado = fatorial(n)\n",
        "print(\"O fatorial de\", n, \"é\", resultado)"
      ],
      "metadata": {
        "id": "eo6GSdWiw5cv"
      },
      "execution_count": null,
      "outputs": []
    },
    {
      "cell_type": "code",
      "source": [
        "# Questão 3 - Lista 3\n",
        "\n",
        "def fatorial(n):\n",
        "  if n == 0 or n == 1:\n",
        "    return 1\n",
        "  else:\n",
        "    return n * fatorial(n-1)\n",
        "\n",
        "def calcula_e(n):\n",
        "    e = 1\n",
        "    for i in range(1, n+1):\n",
        "        e += 1/fatorial(i)\n",
        "    return e\n",
        "\n",
        "n = int(input(\"Insira um valor inteiro e positivo para calcular o valor de E: \"))\n",
        "resultado = calcula_e(n)\n",
        "print(\"O valor de E com\", n, \"termos é\", resultado)"
      ],
      "metadata": {
        "id": "_CD66Uyqw5ee"
      },
      "execution_count": null,
      "outputs": []
    },
    {
      "cell_type": "code",
      "source": [
        "# Questão 4 - Lista 3\n",
        "\n",
        "candidato1 = 0\n",
        "candidato2 = 0\n",
        "candidato3 = 0\n",
        "candidato4 = 0\n",
        "voto_nulo = 0\n",
        "voto_branco = 0\n",
        "\n",
        "while True:\n",
        "    voto = int(input(\"Informe o código do voto: \"))\n",
        "    if voto == 1:\n",
        "        candidato1 += 1\n",
        "    elif voto == 2:\n",
        "        candidato2 += 1\n",
        "    elif voto == 3:\n",
        "        candidato3 += 1\n",
        "    elif voto == 4:\n",
        "        candidato4 += 1\n",
        "    elif voto == 5:\n",
        "        voto_nulo += 1\n",
        "    elif voto == 6:\n",
        "        voto_branco += 1\n",
        "    else:\n",
        "        break\n",
        "\n",
        "print(\"Candidato 1:\", candidato1, \"votos\")\n",
        "print(\"Candidato 2:\", candidato2, \"votos\")\n",
        "print(\"Candidato 3:\", candidato3, \"votos\")\n",
        "print(\"Candidato 4:\", candidato4, \"votos\")\n",
        "print(\"Votos nulos:\", voto_nulo)\n",
        "print(\"Votos em branco:\", voto_branco)"
      ],
      "metadata": {
        "id": "xyGVzrKuw5gU"
      },
      "execution_count": null,
      "outputs": []
    },
    {
      "cell_type": "code",
      "source": [
        "# Questão 5 - Lista 3\n",
        "\n",
        "soma = 0\n",
        "contador = 0\n",
        "\n",
        "for i in range(1, 401):\n",
        "    num = int(input(\"Digite um número: \"))\n",
        "    if num % 2 == 0:\n",
        "        soma += num\n",
        "        contador += 1\n",
        "\n",
        "if contador > 0:\n",
        "    media = soma / contador\n",
        "    print(\"A média dos números pares é:\", media)\n",
        "else:\n",
        "    print(\"Não foram digitados números pares.\")"
      ],
      "metadata": {
        "id": "Aq1otCDIw508"
      },
      "execution_count": null,
      "outputs": []
    },
    {
      "cell_type": "code",
      "source": [
        "# Questão 6 - Lista 3\n",
        "maior = -9999999999\n",
        "menor = 9999999999\n",
        "\n",
        "for i in range(1, 51):\n",
        "    valor = float(input(\"Digite um valor: \"))\n",
        "    if valor > maior:\n",
        "        maior = valor\n",
        "    if valor < menor:\n",
        "        menor = valor\n",
        "\n",
        "print(\"Maior valor:\", maior)\n",
        "print(\"Menor valor:\", menor)\n"
      ],
      "metadata": {
        "id": "9awYOL5Zw54P"
      },
      "execution_count": null,
      "outputs": []
    },
    {
      "cell_type": "code",
      "source": [
        "# Questão 7 - Lista 3\n",
        "\n",
        "for i in range(1, 61):\n",
        "    codigo = input(\"Digite o código do aluno: \")\n",
        "    nota1 = float(input(\"Digite a primeira nota: \"))\n",
        "    nota2 = float(input(\"Digite a segunda nota: \"))\n",
        "    nota3 = float(input(\"Digite a terceira nota: \"))\n",
        "    maior_nota = max(nota1, nota2, nota3)\n",
        "    media = ((maior_nota*4) + (nota1+nota2+nota3 - maior_nota)*3)/10\n",
        "\n",
        "    print(\"Código do aluno:\", codigo)\n",
        "    print(\"Notas:\", nota1, nota2, nota3)\n",
        "    print(\"Média ponderada:\", media)\n",
        "    if media >= 5:\n",
        "        print(\"APROVADO\")\n",
        "    else:\n",
        "        print(\"REPROVADO\")"
      ],
      "metadata": {
        "id": "XwOj0IXsw56S"
      },
      "execution_count": null,
      "outputs": []
    },
    {
      "cell_type": "code",
      "source": [
        "# Questão 8 - Lista 3\n",
        "\n",
        "for i in range(1, 21):\n",
        "    n = int(input(\"Digite um número: \"))\n",
        "    for j in range(1, 11):\n",
        "        print(j, \"x\", n, \"=\", j*n)\n"
      ],
      "metadata": {
        "id": "Z0GEFrMcw58C"
      },
      "execution_count": null,
      "outputs": []
    },
    {
      "cell_type": "code",
      "source": [
        "# Questão 9 - Lista 3\n",
        "\n",
        "intervalo1 = 0\n",
        "intervalo2 = 0\n",
        "intervalo3 = 0\n",
        "intervalo4 = 0\n",
        "\n",
        "for i in range(1, 2001):\n",
        "    num = int(input(\"Digite um número: \"))\n",
        "    if 0 <= num <= 25:\n",
        "        intervalo1 += 1\n",
        "    elif 26 <= num <= 50:\n",
        "        intervalo2 += 1\n",
        "    elif 51 <= num <= 75:\n",
        "        intervalo3 += 1\n",
        "    elif 76 <= num <= 100:\n",
        "        intervalo4 += 1\n",
        "\n",
        "print(\"Números no intervalo [0,25]:\", intervalo1)\n",
        "print(\"Números no intervalo [26,50]:\", intervalo2)\n",
        "print(\"Números no intervalo [51,75]:\", intervalo3)\n",
        "print(\"Números no intervalo [76,100]:\", intervalo4)\n"
      ],
      "metadata": {
        "id": "NrTEioHYw5-G"
      },
      "execution_count": null,
      "outputs": []
    },
    {
      "cell_type": "code",
      "source": [
        "# Questão 10 - Lista 3\n",
        "\n",
        "qtd_pares = 0\n",
        "qtd_impares = 0\n",
        "soma_pares = 0\n",
        "soma_geral = 0\n",
        "\n",
        "for i in range(1, 57):\n",
        "    num = int(input(\"Digite um número positivo: \"))\n",
        "    if num < 0:\n",
        "        print(\"Número inválido, digite novamente\")\n",
        "        continue\n",
        "    soma_geral += num\n",
        "    if num % 2 == 0:\n",
        "        qtd_pares += 1\n",
        "        soma_pares += num\n",
        "    else:\n",
        "        qtd_impares += 1\n",
        "\n",
        "if qtd_pares > 0:\n",
        "    media_pares = soma_pares / qtd_pares\n",
        "else:\n",
        "    media_pares = 0\n",
        "media_geral = soma_geral / 56\n",
        "\n",
        "print(\"Quantidade de números pares:\", qtd_pares)\n",
        "print(\"Quantidade de números ímpares:\", qtd_impares)\n",
        "print(\"Média dos números pares:\", media_pares)\n",
        "print(\"Média geral dos números lidos:\", media_geral)\n"
      ],
      "metadata": {
        "id": "q2oVoplka2qK"
      },
      "execution_count": null,
      "outputs": []
    },
    {
      "cell_type": "code",
      "source": [
        "# Questão 11 - Lista 3\n",
        "\n",
        "produto = 1\n",
        "for i in range(1, 701):\n",
        "    num = int(input(\"Digite um número inteiro positivo: \"))\n",
        "    if num < 0:\n",
        "        print(\"Número inválido, digite novamente\")\n",
        "        continue\n",
        "    if num % 2 == 0:\n",
        "        produto *= num\n",
        "\n",
        "print(\"Produtório dos números pares:\", produto)\n"
      ],
      "metadata": {
        "id": "7KMGNiHva2tE"
      },
      "execution_count": null,
      "outputs": []
    },
    {
      "cell_type": "code",
      "source": [
        "# Questão 12 - Lista 3\n",
        "for i in range(1000, 2000):\n",
        "    if i % 11 == 5:\n",
        "        print(i)"
      ],
      "metadata": {
        "id": "rgsg0ZZBa2vG"
      },
      "execution_count": null,
      "outputs": []
    },
    {
      "cell_type": "code",
      "source": [
        "# Questão 13 - Lista 3\n",
        "\n",
        "s = 0\n",
        "for i in range(1,11):\n",
        "    if i % 2 != 0:\n",
        "        s += i/(i**2)\n",
        "    else:\n",
        "        s -= i/(i**2)\n",
        "print(\"S = 1/1 - 2/4 + 3/9 - 4/16 + 5/25 - 6/36 + ... - 10/100\")\n",
        "print(\"S = {}\".format(s))\n"
      ],
      "metadata": {
        "colab": {
          "base_uri": "https://localhost:8080/"
        },
        "id": "-7zG7siwa2yF",
        "outputId": "dfe8cc75-a62f-48f7-e0c7-178c001c60db"
      },
      "execution_count": null,
      "outputs": [
        {
          "output_type": "stream",
          "name": "stdout",
          "text": [
            "S = 1/1 - 2/4 + 3/9 - 4/16 + 5/25 - 6/36 + ... - 10/100\n",
            "S = 0.6456349206349207\n"
          ]
        }
      ]
    },
    {
      "cell_type": "code",
      "source": [
        "# Questão 14 - Lista 3\n",
        "\n",
        "for i in range(1, 8):\n",
        "    for j in range(i):\n",
        "        print(\"$\", end=\"\")\n",
        "    print()\n"
      ],
      "metadata": {
        "colab": {
          "base_uri": "https://localhost:8080/"
        },
        "id": "SHDJ85cya20Z",
        "outputId": "83cdc14e-13df-41f1-966f-ac10ab119e9d"
      },
      "execution_count": null,
      "outputs": [
        {
          "output_type": "stream",
          "name": "stdout",
          "text": [
            "$\n",
            "$$\n",
            "$$$\n",
            "$$$$\n",
            "$$$$$\n",
            "$$$$$$\n",
            "$$$$$$$\n"
          ]
        }
      ]
    },
    {
      "cell_type": "code",
      "source": [
        "# Questão 15 - Lista 3\n",
        "limite_superior = int(input(\"Insira o limite superior: \"))\n",
        "\n",
        "for i in range(1,limite_superior):\n",
        "    if i % 2 != 0:\n",
        "        print(i, end = \" \")\n"
      ],
      "metadata": {
        "colab": {
          "base_uri": "https://localhost:8080/"
        },
        "id": "D44l53tQa22L",
        "outputId": "5a04c078-e2a1-4968-e65d-cf411972f9a4"
      },
      "execution_count": null,
      "outputs": [
        {
          "output_type": "stream",
          "name": "stdout",
          "text": [
            "Insira o limite superior: 10\n",
            "1 3 5 7 9 "
          ]
        }
      ]
    },
    {
      "cell_type": "code",
      "source": [
        "# Questão 16 - Lista 3\n",
        "num = int(input(\"Insira um número inteiro: \"))\n",
        "\n",
        "if num < 2:\n",
        "    print(\"O número não é primo\")\n",
        "else:\n",
        "    primo = True\n",
        "    for i in range(2, num):\n",
        "        if num % i == 0:\n",
        "            primo = False\n",
        "            break\n",
        "    if primo:\n",
        "        print(\"O número é primo\")\n",
        "    else:\n",
        "        print(\"O número não é primo\")\n"
      ],
      "metadata": {
        "id": "xu4TB2Zga24I"
      },
      "execution_count": null,
      "outputs": []
    },
    {
      "cell_type": "code",
      "source": [
        "# Questão 17 - Lista 3\n",
        "s = 0\n",
        "d = 1\n",
        "for i in range(1,51):\n",
        "    if i % 2 != 0:\n",
        "        s += (2**i)/d\n",
        "    else:\n",
        "        s -= (2**i)/d\n",
        "    d += 2\n",
        "print(s)\n",
        "\n"
      ],
      "metadata": {
        "colab": {
          "base_uri": "https://localhost:8080/"
        },
        "id": "tUGckoCFa26E",
        "outputId": "fdcecb90-d176-4852-c2ee-a5446da64ac3"
      },
      "execution_count": null,
      "outputs": [
        {
          "output_type": "stream",
          "name": "stdout",
          "text": [
            "-7530424909538.758\n"
          ]
        }
      ]
    },
    {
      "cell_type": "code",
      "source": [
        "# Questão 18 - Lista 3\n",
        "\n",
        "total_candidatos = 0\n",
        "total_masculino = 0\n",
        "mais_concorrido = 0\n",
        "cod_concorrido = 0\n",
        "\n",
        "for i in range(1,24):\n",
        "    cod_curso = int(input(\"Informe o código do curso: \"))\n",
        "    vagas = int(input(\"Informe o número de vagas: \"))\n",
        "    masculino = int(input(\"Informe o número de candidatos do sexo masculino: \"))\n",
        "    feminino = int(input(\"Informe o número de candidatos do sexo feminino: \"))\n",
        "    total_candidatos += masculino + feminino\n",
        "    total_masculino += masculino\n",
        "    candidato_por_vaga = (masculino + feminino) / vagas\n",
        "    if candidato_por_vaga > mais_concorrido:\n",
        "        mais_concorrido = candidato_por_vaga\n",
        "        cod_concorrido = cod_curso\n",
        "    porcentagem_feminino = (feminino / (masculino + feminino)) * 100\n",
        "    porcentagem_masculino = (masculino / (masculino + feminino)) * 100\n",
        "    print(\"Para o curso de código {} há {:.2f} candidato(s) por vaga, {:.2f}% de candidatos do sexo feminino e {:.2f}% de candidatos do sexo masculino.\".format(cod_curso, candidato_por_vaga, porcentagem_feminino, porcentagem_masculino))\n",
        "\n",
        "print(\"O curso mais concorrido foi o de código {} com {:.2f} candidato(s) por vaga.\".format(cod_concorrido, mais_concorrido))\n",
        "print(\"O total de candidatos é de {} e o total de candidatos do sexo masculino é de {}.\".format(total_candidatos, total_masculino))\n"
      ],
      "metadata": {
        "id": "_exodYzUa278"
      },
      "execution_count": null,
      "outputs": []
    },
    {
      "cell_type": "code",
      "source": [
        "import requests\n",
        "from bs4 import BeautifulSoup\n",
        "import pandas as pd\n",
        "\n",
        "# Criar lista de ativos para coletar dados\n",
        "ativos = [\"WEGE3\", \"NUBR33\", \"VALE3\"]\n",
        "\n",
        "# Criar dicionário vazio para armazenar dados\n",
        "dados = {}\n",
        "\n",
        "# Coletar dados de cada ativo na lista\n",
        "for ativo in ativos:\n",
        "    url = f\"https://br.financas.yahoo.com/quote/{ativo}/history?p={ativo}\"\n",
        "    res = requests.get(url)\n",
        "    soup = BeautifulSoup(res.text, 'html.parser')\n",
        "    table = soup.find_all('table')[0]\n",
        "    df = pd.read_html(str(table))[0]\n",
        "    df.columns = df.columns.get_level_values(0)\n",
        "    dados[ativo] = df\n",
        "\n",
        "# Exibir dados coletados\n",
        "print(dados)\n"
      ],
      "metadata": {
        "colab": {
          "base_uri": "https://localhost:8080/"
        },
        "id": "Xo58-AUQILqU",
        "outputId": "0b286b82-b527-43aa-86ae-b72621483652"
      },
      "execution_count": null,
      "outputs": [
        {
          "output_type": "stream",
          "name": "stdout",
          "text": [
            "{'WEGE3':                                                    0\n",
            "0  Will be right back... Thank you for your patie..., 'NUBR33':                                                    0\n",
            "0  Will be right back... Thank you for your patie..., 'VALE3':                                                    0\n",
            "0  Will be right back... Thank you for your patie...}\n"
          ]
        }
      ]
    }
  ]
}