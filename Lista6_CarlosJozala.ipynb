{
  "nbformat": 4,
  "nbformat_minor": 0,
  "metadata": {
    "colab": {
      "provenance": [],
      "authorship_tag": "ABX9TyPbKgumASKaO8iMTAzzARVh",
      "include_colab_link": true
    },
    "kernelspec": {
      "name": "python3",
      "display_name": "Python 3"
    },
    "language_info": {
      "name": "python"
    }
  },
  "cells": [
    {
      "cell_type": "markdown",
      "metadata": {
        "id": "view-in-github",
        "colab_type": "text"
      },
      "source": [
        "<a href=\"https://colab.research.google.com/github/CarlosJozala/Calculo_Numerico/blob/main/Lista6_CarlosJozala.ipynb\" target=\"_parent\"><img src=\"https://colab.research.google.com/assets/colab-badge.svg\" alt=\"Open In Colab\"/></a>"
      ]
    },
    {
      "cell_type": "markdown",
      "source": [
        "Atividade da Lista 6 - Vetores\n",
        "\n",
        "\n",
        "Aluno: Carlos Eduardo da Silva Jozala\n",
        "Matrícula: 2015290029\n"
      ],
      "metadata": {
        "id": "ulatCITqOgiA"
      }
    },
    {
      "cell_type": "code",
      "source": [
        "# Questão 1 - Lista 6\n",
        "# Algoritmo para preencher e escrever um vetor de 10 posições com os 10 primeiros números impares\n",
        "\n",
        "# Declaração do vetor v com 10 posições\n",
        "v = [0] * 10\n",
        "\n",
        "# Laço para preencher o vetor com os 10 primeiros números impares\n",
        "for i in range(10):\n",
        "    v[i] = (i * 2) + 1\n",
        "\n",
        "# Escrita do vetor\n",
        "print(v)"
      ],
      "metadata": {
        "colab": {
          "base_uri": "https://localhost:8080/"
        },
        "id": "bB3k2OOgOj06",
        "outputId": "491ad1d3-ac0e-4f4e-aa65-f466098ae3af"
      },
      "execution_count": null,
      "outputs": [
        {
          "output_type": "stream",
          "name": "stdout",
          "text": [
            "[1, 3, 5, 7, 9, 11, 13, 15, 17, 19]\n"
          ]
        }
      ]
    },
    {
      "cell_type": "code",
      "source": [
        "# Questão 2 - Lista 6\n",
        "// Declarando o vetor de 16 posições\n",
        "int vetor[16];\n",
        "\n",
        "// Lendo os valores do vetor\n",
        "for (int i = 0; i < 16; i++) {\n",
        "    printf(\"Informe o valor da posição %d: \", i);\n",
        "    scanf(\"%d\", &vetor[i]);\n",
        "}\n",
        "\n",
        "// Trocando os valores dos 8 primeiros pelos 8 últimos\n",
        "for (int i = 0; i < 8; i++) {\n",
        "    int temp = vetor[i];\n",
        "    vetor[i] = vetor[15 - i];\n",
        "    vetor[15 - i] = temp;\n",
        "}\n",
        "\n",
        "// Escrevendo o vetor obtido\n",
        "printf(\"Vetor obtido: \");\n",
        "for (int i = 0; i < 16; i++) {\n",
        "    printf(\"%d \", vetor[i]);\n",
        "}\n"
      ],
      "metadata": {
        "id": "ASM_pq0bOj2_"
      },
      "execution_count": null,
      "outputs": []
    },
    {
      "cell_type": "code",
      "source": [
        "# Questão 3 - Lista 6\n",
        "# Algoritmo para questão 3\n",
        "\n",
        "# Declarando o vetor de 20 posições\n",
        "vetor = []\n",
        "\n",
        "# Lendo os valores do vetor\n",
        "for i in range(20):\n",
        "    vetor.append(int(input(\"Insira o valor da posição \" + str(i) + \": \")))\n",
        "\n",
        "# Lendo o valor X\n",
        "x = int(input(\"Insira o valor de X: \"))\n",
        "\n",
        "# Inicializando a variável que irá armazenar a posição de X no vetor\n",
        "posicao = -1\n",
        "\n",
        "# Procurando o valor de X no vetor\n",
        "for i in range(20):\n",
        "    if vetor[i] == x:\n",
        "        posicao = i\n",
        "        break\n",
        "\n",
        "# Verificando se o valor foi encontrado\n",
        "if posicao == -1:\n",
        "    print(\"Valor não encontrado no vetor.\")\n",
        "else:\n",
        "    print(\"Valor encontrado na posição \" + str(posicao) + \" do vetor.\")"
      ],
      "metadata": {
        "id": "VWhLUlMmOj4p"
      },
      "execution_count": null,
      "outputs": []
    },
    {
      "cell_type": "code",
      "source": [
        "# Questão 4 - Lista 6\n",
        "# Algoritmo para resolver a questão 4\n",
        "\n",
        "# Declarando o vetor de 40 posições\n",
        "vetor = [0]*40\n",
        "\n",
        "# Lendo os valores do vetor\n",
        "for i in range(40):\n",
        "    vetor[i] = int(input(\"Informe o valor da posição {}: \".format(i+1)))\n",
        "\n",
        "# Variável para contar quantos valores pares o vetor possui\n",
        "qtd_pares = 0\n",
        "\n",
        "# Verificando quantos valores pares o vetor possui\n",
        "for i in range(40):\n",
        "    if vetor[i] % 2 == 0:\n",
        "        qtd_pares += 1\n",
        "\n",
        "# Imprimindo a quantidade de valores pares\n",
        "print(\"Quantidade de valores pares: \", qtd_pares)"
      ],
      "metadata": {
        "id": "LDC7xLRoOj87"
      },
      "execution_count": null,
      "outputs": []
    },
    {
      "cell_type": "code",
      "source": [
        "# Questão 5 - Lista 6\n",
        "vetor = []\n",
        "for i in range(40):\n",
        "    valor = int(input(\"Informe o valor da posição {}: \".format(i)))\n",
        "    vetor.append(valor)\n",
        "    \n",
        "for i in range(40):\n",
        "    if vetor[i] < 0:\n",
        "        vetor[i] = 0\n",
        "\n",
        "print(\"Vetor atualizado: \", vetor)"
      ],
      "metadata": {
        "id": "SMNbNu_2Oj-n",
        "outputId": "61b2b518-b22a-4481-9cb6-def86cb8c735",
        "colab": {
          "base_uri": "https://localhost:8080/"
        }
      },
      "execution_count": null,
      "outputs": [
        {
          "name": "stdout",
          "output_type": "stream",
          "text": [
            "Informe o valor da posição 0: 1\n"
          ]
        }
      ]
    },
    {
      "cell_type": "code",
      "source": [
        "# Questão 6 - Lista 6\n",
        "# Declarando os vetores\n",
        "vetor1 = [0] * 20\n",
        "vetor2 = [0] * 20\n",
        "vetor3 = [0] * 20\n",
        "\n",
        "# Lendo os valores dos vetores\n",
        "for i in range(20):\n",
        "    vetor1[i] = int(input(\"Informe um valor para o vetor 1, na posição {}: \".format(i)))\n",
        "    vetor2[i] = int(input(\"Informe um valor para o vetor 2, na posição {}: \".format(i)))\n",
        "\n",
        "# Calculando o vetor3\n",
        "for i in range(20):\n",
        "    if i % 2 == 0:\n",
        "        vetor3[i] = vetor1[i]\n",
        "    else:\n",
        "        vetor3[i] = vetor2[i]\n",
        "\n",
        "# Imprimindo o vetor3\n",
        "print(\"Vetor 3: \", vetor3)"
      ],
      "metadata": {
        "id": "x4mUpSapOkBN"
      },
      "execution_count": null,
      "outputs": []
    },
    {
      "cell_type": "code",
      "source": [
        "# Questão 7 - Lista 6\n",
        "vetor = [\"u\", \"m\", \"3\"]\n",
        "\n",
        "numero = \"\".join(vetor)\n",
        "\n",
        "if numero == \"um\":\n",
        "    print(\"Um\")\n",
        "elif numero == \"dois\":\n",
        "    print(\"Dois\")\n",
        "elif numero == \"tres\":\n",
        "    print(\"Três\")\n",
        "elif numero == \"quatro\":\n",
        "    print(\"Quatro\")\n",
        "elif numero == \"cinco\":\n",
        "    print(\"Cinco\")\n",
        "elif numero == \"seis\":\n",
        "    print(\"Seis\")\n",
        "elif numero == \"sete\":\n",
        "    print(\"Sete\")\n",
        "elif numero == \"oito\":\n",
        "    print(\"Oito\")\n",
        "elif numero == \"nove\":\n",
        "    print(\"Nove\")\n",
        "else:\n",
        "    print(\"Número inválido.\")"
      ],
      "metadata": {
        "id": "RI5y99-kOkDN"
      },
      "execution_count": null,
      "outputs": []
    },
    {
      "cell_type": "code",
      "source": [
        "# Questão 8 - Lista 6\n",
        "vetor1 = [1,2,3,4,5,6,7,8,9]\n",
        "vetor2 = [10,11,12,13,14,15,16,17,18]\n",
        "vetor3 = [19,20,21,22,23,24,25,26,27]\n",
        "vetorResultante = [0]*27\n",
        "\n",
        "#Percorrendo as 9 primeiras posições do vetor1\n",
        "for i in range(0,3):\n",
        "  vetorResultante[i] = vetor1[i]\n",
        "\n",
        "#Percorrendo as 9 posições do meio do vetor2\n",
        "for i in range(3,6):\n",
        "  vetorResultante[i] = vetor2[i]\n",
        "\n",
        "#Percorrendo as 9 últimas posições do vetor3\n",
        "for i in range(6,9):\n",
        "  vetorResultante[i] = vetor3[i]\n",
        "\n",
        "print(vetorResultante)\n",
        "\n"
      ],
      "metadata": {
        "colab": {
          "base_uri": "https://localhost:8080/",
          "height": 131
        },
        "id": "aLUrki8tOkFN",
        "outputId": "81a055fa-f3f5-4b17-e446-11aaa8c40b49"
      },
      "execution_count": null,
      "outputs": [
        {
          "output_type": "error",
          "ename": "IndentationError",
          "evalue": "ignored",
          "traceback": [
            "\u001b[0;36m  File \u001b[0;32m\"<ipython-input-2-9fc504accef9>\"\u001b[0;36m, line \u001b[0;32m2\u001b[0m\n\u001b[0;31m    vetor1 = [0]*9\u001b[0m\n\u001b[0m    ^\u001b[0m\n\u001b[0;31mIndentationError\u001b[0m\u001b[0;31m:\u001b[0m unexpected indent\n"
          ]
        }
      ]
    },
    {
      "cell_type": "code",
      "source": [
        "# Questão 9 - Lista 6\n",
        "vetor = []\n",
        "\n",
        "# Ler valores para o vetor\n",
        "for i in range(10):\n",
        "    valor = int(input(\"Informe o valor para a posicao {}: \".format(i)))\n",
        "    vetor.append(valor)\n",
        "\n",
        "# Verificar se existem valores iguais\n",
        "for i in range(10):\n",
        "    for j in range(i+1, 10):\n",
        "        if vetor[i] == vetor[j]:\n",
        "            print(\"Valor igual encontrado: {}\".format(vetor[i]))\n"
      ],
      "metadata": {
        "id": "A-IHFqCyOkHN"
      },
      "execution_count": null,
      "outputs": []
    },
    {
      "cell_type": "code",
      "source": [
        "# Questão 10 - Lista 6\n",
        "vetor = [1, 2, 3, 4, 5, 6, 7, 8]\n",
        "invertido = []\n",
        "\n",
        "#invertendo posição dos valores do vetor\n",
        "for i in range(len(vetor) -1, -1, -1):\n",
        "    invertido.append(vetor[i])\n",
        "\n",
        "#imprimindo vetor invertido\n",
        "print(invertido)\n"
      ],
      "metadata": {
        "colab": {
          "base_uri": "https://localhost:8080/"
        },
        "id": "u96xNl5-OkJD",
        "outputId": "45483345-d0bd-4759-e5b5-d93120463dfc"
      },
      "execution_count": null,
      "outputs": [
        {
          "output_type": "stream",
          "name": "stdout",
          "text": [
            "[8, 7, 6, 5, 4, 3, 2, 1]\n"
          ]
        }
      ]
    },
    {
      "cell_type": "code",
      "source": [
        "# Questão 11 - Lista 6\n",
        "# Iniciando vetores X e Y com valores de exemplo\n",
        "X = [1, 2, 3, 4, 5, 6, 7, 8, 9, 10]\n",
        "Y = [10, 9, 8, 7, 6, 5, 4, 3, 2, 1]\n",
        "\n",
        "# Criando vetor Z\n",
        "Z = []\n",
        "\n",
        "# Calculando a diferença entre X e Y e atribuindo ao vetor Z\n",
        "for i in range(10):\n",
        "    Z.append(X[i] - Y[i])\n",
        "print(\"Diferença entre X e Y: \", Z)\n",
        "\n",
        "# Calculando a soma entre X e Y e atribuindo ao vetor Z\n",
        "Z = []\n",
        "for i in range(10):\n",
        "    Z.append(X[i] + Y[i])\n",
        "print(\"Soma entre X e Y: \", Z)\n",
        "\n",
        "# Calculando o produto entre X e Y e atribuindo ao vetor Z\n",
        "Z = []\n",
        "for i in range(10):\n",
        "    Z.append(X[i] * Y[i])\n",
        "print(\"Produto entre X e Y: \", Z)\n"
      ],
      "metadata": {
        "id": "lxNiaf7AOkK2"
      },
      "execution_count": null,
      "outputs": []
    },
    {
      "cell_type": "code",
      "source": [
        "# Questão 12 - Lista 6\n",
        "# Declarando os vetores de nomes e notas\n",
        "nomes = [None] * 5\n",
        "notas = [None] * 5\n",
        "\n",
        "# Lendo os nomes e notas dos alunos\n",
        "for i in range(5):\n",
        "    nomes[i] = input(\"Informe o nome do aluno \" + str(i + 1) + \": \")\n",
        "    notas[i] = float(input(\"Informe a nota do aluno \" + str(i + 1) + \": \"))\n",
        "\n",
        "# Imprimindo a listagem com posição, nome e nota de cada aluno\n",
        "print(\"Listagem de Alunos:\")\n",
        "for i in range(5):\n",
        "    print(\"Posicao \" + str(i + 1) + \": \" + nomes[i] + \" - Nota: \" + str(notas[i]))\n",
        "\n",
        "# Procurando o aluno com maior nota\n",
        "maior_nota = notas[0]\n",
        "maior_nota_nome = nomes[0]\n",
        "for i in range(1, 5):\n",
        "    if notas[i] > maior_nota:\n",
        "        maior_nota = notas[i]\n",
        "        maior_nota_nome = nomes[i]\n",
        "\n",
        "# Procurando o aluno com menor nota\n",
        "menor_nota = notas[0]\n",
        "menor_nota_nome = nomes[0]\n",
        "for i in range(1, 5):\n",
        "    if notas[i] < menor_nota:\n",
        "        menor_nota = notas[i]\n",
        "        menor_nota_nome = nomes[i]\n",
        "\n",
        "# Imprimindo o nome do aluno com maior e menor nota\n",
        "print(\"\\nAluno com maior nota: \" + maior_nota_nome + \" - Nota: \" + str(maior_nota))\n",
        "print(\"Aluno com menor nota: \" + menor_nota_nome + \" - Nota: \" + str(menor_nota))\n"
      ],
      "metadata": {
        "id": "LsQ_SHfkOkM4"
      },
      "execution_count": null,
      "outputs": []
    },
    {
      "cell_type": "code",
      "source": [
        "# Questão 13 - Lista 6\n",
        "def main():\n",
        "    k = [0] * 30\n",
        "    # Ler valores para o vetor\n",
        "    for i in range(30):\n",
        "        k[i] = int(input(f\"Informe o valor para a posicao {i}: \"))\n",
        "\n",
        "    # Trocar elementos de ordem impar e par\n",
        "    for i in range(0, 30, 2):\n",
        "        k[i], k[i + 1] = k[i + 1], k[i]\n",
        "\n",
        "    # Mostrar vetor modificado\n",
        "    print(\"Vetor modificado: \", k)\n",
        "\n",
        "if __name__ == \"__main__\":\n",
        "    main()\n"
      ],
      "metadata": {
        "id": "QxhmP7WbOjMe"
      },
      "execution_count": null,
      "outputs": []
    }
  ]
}