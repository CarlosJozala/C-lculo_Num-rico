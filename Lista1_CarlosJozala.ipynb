{
  "nbformat": 4,
  "nbformat_minor": 0,
  "metadata": {
    "colab": {
      "provenance": [],
      "authorship_tag": "ABX9TyNOafRTyWCP+aiyNv6/K5yr",
      "include_colab_link": true
    },
    "kernelspec": {
      "name": "python3",
      "display_name": "Python 3"
    },
    "language_info": {
      "name": "python"
    }
  },
  "cells": [
    {
      "cell_type": "markdown",
      "metadata": {
        "id": "view-in-github",
        "colab_type": "text"
      },
      "source": [
        "<a href=\"https://colab.research.google.com/github/CarlosJozala/Calculo_Numerico/blob/main/Lista1_CarlosJozala.ipynb\" target=\"_parent\"><img src=\"https://colab.research.google.com/assets/colab-badge.svg\" alt=\"Open In Colab\"/></a>"
      ]
    },
    {
      "cell_type": "markdown",
      "source": [
        "\n",
        "\n",
        "> Atividade da Lista 1 - LP1\n",
        "\n",
        "*   Aluno: Carlos Eduardo da Silva Jozala\n",
        "\n",
        "\n",
        "*   Matrícula: 2015290029\n",
        "\n",
        "\n",
        "\n",
        "\n",
        "\n",
        "\n"
      ],
      "metadata": {
        "id": "dqEVgFjDUzX6"
      }
    },
    {
      "cell_type": "code",
      "source": [
        "#Questão 1 - Lista 1\n",
        "\n",
        "print(\"Universidade Federal do Amazonas\")"
      ],
      "metadata": {
        "id": "k1vtUBctNj5p"
      },
      "execution_count": null,
      "outputs": []
    },
    {
      "cell_type": "code",
      "source": [
        "#Questão 2 - Lista 1\n",
        "\n",
        "print(\" ***** \")\n",
        "print(\"(* o o *)\")\n",
        "print(\" * ^ * \")\n",
        "print(\" * --- *\")\n",
        "print(\" ***** \")"
      ],
      "metadata": {
        "id": "U-Kyt1tcNlTT"
      },
      "execution_count": null,
      "outputs": []
    },
    {
      "cell_type": "code",
      "source": [
        "#Questão 3 - Lista 1\n",
        "\n",
        "valor_sosigenes = 40\n",
        "valor_jocasta = 35\n",
        "valor_total = valor_sosigenes + valor_jocasta\n",
        "print(valor_total)"
      ],
      "metadata": {
        "id": "s36I2nRgOZRm"
      },
      "execution_count": null,
      "outputs": []
    },
    {
      "cell_type": "code",
      "source": [
        "#Questão 4 - Lista 1\n",
        "\n",
        "valor_heraclito = 55\n",
        "valor_conta = 90\n",
        "valor_total = valor_conta - valor_heraclito\n",
        "print(valor_total)"
      ],
      "metadata": {
        "id": "TI-_WD2ROpDm"
      },
      "execution_count": null,
      "outputs": []
    },
    {
      "cell_type": "code",
      "execution_count": null,
      "metadata": {
        "id": "ur-ynbp5zUKv"
      },
      "outputs": [],
      "source": [
        "#Questão 5 - Lista 1\n",
        "def multiply(amigos,rodízio):\n",
        " return amigos * rodízio\n",
        "print(\"O total da conta é:\",multiply(20,35))"
      ]
    },
    {
      "cell_type": "code",
      "source": [
        "# Questão 6 - Lista 1\n",
        "def div(amigos,conta):\n",
        "  return amigos/conta\n",
        "print(\"A divisão total da conta é:\",div(180,4))"
      ],
      "metadata": {
        "id": "OjwjXSYD2tlg"
      },
      "execution_count": null,
      "outputs": []
    },
    {
      "cell_type": "code",
      "source": [
        "#Questão 7 - Lista 1\n",
        "\n",
        "total_conta = 250.00\n",
        "amigos = 6\n",
        "total_por_pessoa = round(total_conta / amigos, 2)\n",
        "print(\"Cada Pessoa deve Pagar: R$\" + str(total_por_pessoa))"
      ],
      "metadata": {
        "id": "EEoJyQQMPLKl"
      },
      "execution_count": null,
      "outputs": []
    },
    {
      "cell_type": "code",
      "source": [
        "#Questão 8 - Lista 1\n",
        "\n",
        "guerreiros = 3\n",
        "ouro = 50\n",
        "\n",
        "ouro_por_guerreiro = ouro // guerreiros\n",
        "ouro_restante = ouro % guerreiros\n",
        "\n",
        "print(\"Cada Guerreiro deve Receber \" + str(ouro_por_guerreiro) + \" moedas de ouro.\")\n",
        "print(\"O Informante deve Receber \" + str(ouro_restante) + \" moedas de ouro.\")"
      ],
      "metadata": {
        "id": "zY5CrQrbPt4D"
      },
      "execution_count": null,
      "outputs": []
    },
    {
      "cell_type": "code",
      "source": [
        "# Questão 9 - Lista 1\n",
        "\n",
        "import math\n",
        "\n",
        "aresta = 5\n",
        "\n",
        "area = (3/2) * math.sqrt(3) * (aresta**2)\n",
        "\n",
        "print(\"A área do hexagono é: {:.4f} cm²\".format(area))"
      ],
      "metadata": {
        "id": "afAobbHPRmqS"
      },
      "execution_count": null,
      "outputs": []
    },
    {
      "cell_type": "code",
      "source": [
        "# Questão 10 - Lista 1\n",
        "\n",
        "expressao = 30 - 3 ** 2 + 8 // 3 ** 2 * 10 \n",
        "print(expressao)\n"
      ],
      "metadata": {
        "id": "KQqYRD3YR2nW",
        "outputId": "deab3969-3530-4438-8438-211a853dc3d3",
        "colab": {
          "base_uri": "https://localhost:8080/"
        }
      },
      "execution_count": null,
      "outputs": [
        {
          "output_type": "stream",
          "name": "stdout",
          "text": [
            "21\n"
          ]
        }
      ]
    },
    {
      "cell_type": "code",
      "source": [
        "# Questão 11 - Lista 1\n",
        "\n",
        "print(2 + 6)\n",
        "print(10 - 2)\n",
        "print(4 * 2)\n",
        "print(16 / 2)\n",
        "print(7 % 1)\n",
        "print(2 ** 3)"
      ],
      "metadata": {
        "id": "BNI-b6KISyt_"
      },
      "execution_count": null,
      "outputs": []
    },
    {
      "cell_type": "code",
      "source": [
        "# Questão 12 - Lista 1\n",
        "\n",
        "nome = input(\"Informe seu nome: \")\n",
        "print(\"Seu nome é:\", nome)"
      ],
      "metadata": {
        "id": "vMNHeQ8gSyvI"
      },
      "execution_count": null,
      "outputs": []
    },
    {
      "cell_type": "code",
      "source": [
        "# Questão 13 - Lista 1\n",
        "\n",
        "string = \"Augusta Ada Byron, a Condessa de Lovelace, nasceu em 1815, na Inglaterra.\"\n",
        "\n",
        "print(string.lower())"
      ],
      "metadata": {
        "id": "hGV3X4pEc4gn"
      },
      "execution_count": null,
      "outputs": []
    },
    {
      "cell_type": "code",
      "source": [
        "# Questão 14 - Lista 1\n",
        "\n",
        "string = \"Augusta Ada Byron, a Condessa de Lovelace, nasceu em 1815 na Inglaterra.\"\n",
        "\n",
        "print(string.lower())"
      ],
      "metadata": {
        "id": "HABK6C03Sy4c"
      },
      "execution_count": null,
      "outputs": []
    },
    {
      "cell_type": "code",
      "source": [
        "# Questão 16 - Lista 1\n",
        "\n",
        "num = int(input(\"Informe um número inteiro positivo: \"))\n",
        "print(\"O dobro do número digitado é:\", num*2)"
      ],
      "metadata": {
        "id": "Hr0pbq3vUS5Q"
      },
      "execution_count": null,
      "outputs": []
    }
  ]
}
