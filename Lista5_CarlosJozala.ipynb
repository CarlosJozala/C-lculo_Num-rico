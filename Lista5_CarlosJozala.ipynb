{
  "nbformat": 4,
  "nbformat_minor": 0,
  "metadata": {
    "colab": {
      "provenance": [],
      "authorship_tag": "ABX9TyOOzPwDKgwRpKfTN6z0CyfH",
      "include_colab_link": true
    },
    "kernelspec": {
      "name": "python3",
      "display_name": "Python 3"
    },
    "language_info": {
      "name": "python"
    }
  },
  "cells": [
    {
      "cell_type": "markdown",
      "metadata": {
        "id": "view-in-github",
        "colab_type": "text"
      },
      "source": [
        "<a href=\"https://colab.research.google.com/github/CarlosJozala/Calculo_Numerico/blob/main/Lista5_CarlosJozala.ipynb\" target=\"_parent\"><img src=\"https://colab.research.google.com/assets/colab-badge.svg\" alt=\"Open In Colab\"/></a>"
      ]
    },
    {
      "cell_type": "markdown",
      "source": [
        "Atividade da Lista 5 - Matrizes\n",
        "\n",
        "Aluno: Carlos Eduardo da Silva Jozala\n",
        "Matrícula: 2015290029\n",
        "\n",
        "\n",
        "\n"
      ],
      "metadata": {
        "id": "sZ6rs2-PLE1V"
      }
    },
    {
      "cell_type": "code",
      "source": [
        "# Questão 1 - Lista 5\n",
        "matriz = [[1,2,3,4,5,6],\n",
        "          [7,8,9,10,11,12],\n",
        "          [13,14,15,16,17,18],\n",
        "          [19,20,21,22,23,24],\n",
        "          [25,26,27,28,29,30],\n",
        "          [31,32,33,34,35,36]]\n",
        "contagem = 0\n",
        "for i in range(6):\n",
        "    for j in range(6):\n",
        "        if matriz[i][j] > 10:\n",
        "            contagem += 1\n",
        "print(\"A matriz possui\", contagem, \"valores maiores que 10.\")"
      ],
      "metadata": {
        "id": "HGbJhfShLGHi"
      },
      "execution_count": null,
      "outputs": []
    },
    {
      "cell_type": "code",
      "source": [
        "# Questão 2 - Lista 5\n",
        "A = [[0 for j in range(3)] for i in range(3)]\n",
        "\n",
        "for i in range(3):\n",
        "    for j in range(3):\n",
        "        A[i][j] = i - j\n",
        "\n",
        "for i in range(3):\n",
        "    for j in range(3):\n",
        "        print(A[i][j], end =\" \")\n",
        "    print()\n"
      ],
      "metadata": {
        "id": "XCgTz-poLGNK"
      },
      "execution_count": null,
      "outputs": []
    },
    {
      "cell_type": "code",
      "source": [
        "# Questão 3 - Lista 5\n",
        "# Construção e exibição das matrizes A e B\n",
        "\n",
        "# Matriz A\n",
        "A = [[1 if i == j else 0 for j in range(3)] for i in range(3)]\n",
        "\n",
        "# Matriz B\n",
        "B = [[i+2*j if i != j else i-3*j for j in range(3)] for i in range(3)]\n",
        "\n",
        "# Exibição das matrizes\n",
        "print(\"Matriz A:\")\n",
        "for i in range(3):\n",
        "    for j in range(3):\n",
        "        print(A[i][j], end=' ')\n",
        "    print()\n",
        "    \n",
        "print(\"Matriz B:\")\n",
        "for i in range(3):\n",
        "    for j in range(3):\n",
        "        print(B[i][j], end=' ')\n",
        "    print()\n"
      ],
      "metadata": {
        "id": "J9EYqnJ0LGQd"
      },
      "execution_count": null,
      "outputs": []
    },
    {
      "cell_type": "code",
      "source": [
        "# Questão 4 - Lista 5\n",
        "A = [[0 for j in range(3)] for i in range(3)]\n",
        "soma = 0\n",
        "\n",
        "for i in range(3):\n",
        "    for j in range(3):\n",
        "        A[i][j] = 4 + 3 * i - j\n",
        "\n",
        "for i in range(3):\n",
        "    soma += A[i][2]\n",
        "\n",
        "print(\"A soma dos elementos da 3º coluna é: \", soma)\n"
      ],
      "metadata": {
        "id": "v85K_6yKLGSE"
      },
      "execution_count": null,
      "outputs": []
    },
    {
      "cell_type": "code",
      "source": [
        "# Questão 5 - Lista 5\n",
        "matriz = [[0 for j in range(10)] for i in range(10)]\n",
        "\n",
        "for i in range(10):\n",
        "    for j in range(10):\n",
        "        matriz[i][j] = int(input(\"Informe o elemento [\" + str(i) + \"][\" + str(j) + \"]: \"))\n",
        "\n",
        "print(\"Elementos da diagonal principal:\")\n",
        "for i in range(10):\n",
        "    print(matriz[i][i])\n"
      ],
      "metadata": {
        "id": "9lAjEpCJLGT8"
      },
      "execution_count": null,
      "outputs": []
    },
    {
      "cell_type": "code",
      "source": [
        "# Questão 6 - Lista 5\n",
        "matriz = [[0 for j in range(10)] for i in range(10)]\n",
        "\n",
        "for i in range(10):\n",
        "    for j in range(10):\n",
        "        matriz[i][j] = int(input(\"Informe o elemento [\" + str(i) + \"][\" + str(j) + \"]: \"))\n",
        "\n",
        "print(\"Todos os elementos, exceto os elementos da diagonal principal:\")\n",
        "for i in range(10):\n",
        "    for j in range(10):\n",
        "        if i != j:\n",
        "            print(matriz[i][j])\n"
      ],
      "metadata": {
        "id": "3kyiFXT0LGV_"
      },
      "execution_count": null,
      "outputs": []
    },
    {
      "cell_type": "code",
      "source": [
        "# Questão 7 - Lista 5\n",
        "matriz = [[0 for j in range(5)] for i in range(5)]\n",
        "\n",
        "for i in range(5):\n",
        "    for j in range(5):\n",
        "        if i == j:\n",
        "            matriz[i][j] = 1\n",
        "        else:\n",
        "            matriz[i][j] = 0\n",
        "\n",
        "for i in range(5):\n",
        "    print(matriz[i])"
      ],
      "metadata": {
        "id": "YK7ECBoaLGXz"
      },
      "execution_count": null,
      "outputs": []
    },
    {
      "cell_type": "code",
      "source": [
        "# Questão 8 - Lista 5\n",
        "A = [[0 for j in range(4)] for i in range(3)]\n",
        "\n",
        "for i in range(3):\n",
        "    for j in range(4):\n",
        "        A[i][j] = int(input(\"Informe o elemento [\" + str(i) + \"][\" + str(j) + \"]: \"))\n",
        "\n",
        "B = [[0 for j in range(4)] for i in range(3)]\n",
        "\n",
        "for i in range(3):\n",
        "    for j in range(4):\n",
        "        B[i][j] = A[i][j] * 3\n",
        "\n",
        "for i in range(3):\n",
        "    print(B[i])"
      ],
      "metadata": {
        "id": "0_z8qKXsLGZS"
      },
      "execution_count": null,
      "outputs": []
    },
    {
      "cell_type": "code",
      "source": [
        "# Questão 9 - Lista 5\n",
        "A = [[0 for j in range(4)] for i in range(4)]\n",
        "B = [[0 for j in range(4)] for i in range(4)]\n",
        "soma = [[0 for j in range(4)] for i in range(4)]\n",
        "\n",
        "for i in range(4):\n",
        "    for j in range(4):\n",
        "        A[i][j] = int(input(\"Informe o elemento A[\" + str(i) + \"][\" + str(j) + \"]: \"))\n",
        "\n",
        "for i in range(4):\n",
        "    for j in range(4):\n",
        "        B[i][j] = int(input(\"Informe o elemento B[\" + str(i) + \"][\" + str(j) + \"]: \"))\n",
        "\n",
        "for i in range(4):\n",
        "    for j in range(4):\n",
        "        soma[i][j] = A[i][j] + B[i][j]\n",
        "\n",
        "for i in range(4):\n",
        "    print(soma[i])\n"
      ],
      "metadata": {
        "id": "bb3VVwP5LGbI"
      },
      "execution_count": null,
      "outputs": []
    },
    {
      "cell_type": "code",
      "source": [
        "# Questão 10 - Lista 5\n",
        "matriz1 = [[0 for j in range(5)] for i in range(5)]\n",
        "matriz2 = [[0 for j in range(5)] for i in range(5)]\n",
        "diferença = [[0 for j in range(5)] for i in range(5)]\n",
        "\n",
        "for i in range(5):\n",
        "    for j in range(5):\n",
        "        matriz1[i][j] = int(input(\"Informe o elemento da matriz1[\" + str(i) + \"][\" + str(j) + \"]: \"))\n",
        "\n",
        "for i in range(5):\n",
        "    for j in range(5):\n",
        "        matriz2[i][j] = int(input(\"Informe o elemento da matriz2[\" + str(i) + \"][\" + str(j) + \"]: \"))\n",
        "\n",
        "for i in range(5):\n",
        "    for j in range(5):\n",
        "        diferença[i][j] = matriz1[i][j] - matriz2[i][j]\n",
        "\n",
        "for i in range(5):\n",
        "    print(diferença[i])\n"
      ],
      "metadata": {
        "id": "iX4Qr6zuLGc_"
      },
      "execution_count": null,
      "outputs": []
    },
    {
      "cell_type": "code",
      "source": [
        "# Questão 11 - Lista 5\n",
        "matriz1 = [[0 for j in range(4)] for i in range(4)]\n",
        "matriz2 = [[0 for j in range(4)] for i in range(4)]\n",
        "maior = [[0 for j in range(4)] for i in range(4)]\n",
        "\n",
        "for i in range(4):\n",
        "    for j in range(4):\n",
        "        matriz1[i][j] = int(input(\"Informe o elemento da matriz1[\" + str(i) + \"][\" + str(j) + \"]: \"))\n",
        "\n",
        "for i in range(4):\n",
        "    for j in range(4):\n",
        "        matriz2[i][j] = int(input(\"Informe o elemento da matriz2[\" + str(i) + \"][\" + str(j) + \"]: \"))\n",
        "\n",
        "for i in range(4):\n",
        "    for j in range(4):\n",
        "        maior[i][j] = max(matriz1[i][j], matriz2[i][j])\n",
        "\n",
        "for i in range(4):\n",
        "    print(maior[i])\n"
      ],
      "metadata": {
        "id": "qY2e3HhbLGlF"
      },
      "execution_count": null,
      "outputs": []
    },
    {
      "cell_type": "code",
      "source": [
        "# Questão 12 - Lista 5\n",
        "import numpy as np\n",
        "matriz_altura = np.zeros((5,10))\n",
        "maior_altura = np.zeros(5)\n",
        "\n",
        "for i in range(5):\n",
        "    for j in range(10):\n",
        "        matriz_altura[i][j] = float(input(f\"Informe a altura do atleta {j+1} da delegação {i+1}: \"))\n",
        "        if j == 0:\n",
        "            maior_altura[i] = matriz_altura[i][j]\n",
        "        else:\n",
        "            if matriz_altura[i][j] > maior_altura[i]:\n",
        "                maior_altura[i] = matriz_altura[i][j]\n",
        "\n",
        "for i in range(5):\n",
        "    print(f\"A maior altura da delegação {i+1} é {maior_altura[i]:.2f}\")\n"
      ],
      "metadata": {
        "id": "mwXrB0BULUhk"
      },
      "execution_count": null,
      "outputs": []
    },
    {
      "cell_type": "code",
      "source": [
        "# Questão 13 - Lista 5\n",
        "# Inicializando a matriz de vendas\n",
        "vendas = [[0 for j in range(4)] for i in range(12)]\n",
        "\n",
        "# Lendo os valores de vendas\n",
        "for i in range(12):\n",
        "    for j in range(4):\n",
        "        vendas[i][j] = int(input(f\"Insira o valor da venda da semana {j+1} do mês {i+1}: \"))\n",
        "\n",
        "# Cálculo do total de vendas por mês\n",
        "totais_mes = [sum(vendas[i]) for i in range(12)]\n",
        "\n",
        "# Cálculo do total de vendas por semana\n",
        "totais_semana = [sum([vendas[i][j] for i in range(12)]) for j in range(4)]\n",
        "\n",
        "# Cálculo do total de vendas no ano\n",
        "total_ano = sum([sum(vendas[i]) for i in range(12)])\n",
        "\n",
        "# Imprimindo resultados\n",
        "print(\"Totais de vendas por mês: \", totais_mes)\n",
        "print(\"Totais de vendas por semana: \", totais_semana)\n",
        "print(\"Total de vendas no ano: \", total_ano)\n"
      ],
      "metadata": {
        "id": "63aSFhb1LUnx"
      },
      "execution_count": null,
      "outputs": []
    },
    {
      "cell_type": "code",
      "source": [
        "# Questão 14 - Lista 5\n",
        "# Algoritmo para calcular o salário das manicures do cabeleireiro Sempre Bela\n",
        "\n",
        "# Matriz para armazenar os valores dos serviços realizados pelas manicures\n",
        "servicos = [[0 for i in range(3)] for j in range(5)]\n",
        "\n",
        "# Preenchendo a matriz com os valores dos serviços\n",
        "for i in range(5):\n",
        "    print(\"Manicure\", i+1)\n",
        "    servicos[i][0] = int(input(\"Pés: R$\"))\n",
        "    servicos[i][1] = int(input(\"Mãos: R$\"))\n",
        "    servicos[i][2] = int(input(\"Podologia: R$\"))\n",
        "\n",
        "# Vetor para armazenar o salário de cada manicure\n",
        "salarios = [0 for i in range(5)]\n",
        "\n",
        "# Calculando o salário de cada manicure\n",
        "for i in range(5):\n",
        "    salarios[i] = (servicos[i][0]*10 + servicos[i][1]*15 + servicos[i][2]*30) * 0.5\n",
        "\n",
        "# Imprimindo o salário de cada manicure\n",
        "for i in range(5):\n",
        "    print(\"Manicure\", i+1, \": R$\", salarios[i])\n",
        "\n"
      ],
      "metadata": {
        "id": "Bo4bxr7KLGm8"
      },
      "execution_count": null,
      "outputs": []
    }
  ]
}