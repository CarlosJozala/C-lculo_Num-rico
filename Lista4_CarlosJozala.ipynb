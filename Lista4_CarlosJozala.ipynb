{
  "nbformat": 4,
  "nbformat_minor": 0,
  "metadata": {
    "colab": {
      "provenance": [],
      "include_colab_link": true
    },
    "kernelspec": {
      "name": "python3",
      "display_name": "Python 3"
    },
    "language_info": {
      "name": "python"
    }
  },
  "cells": [
    {
      "cell_type": "markdown",
      "metadata": {
        "id": "view-in-github",
        "colab_type": "text"
      },
      "source": [
        "<a href=\"https://colab.research.google.com/github/CarlosJozala/Calculo_Numerico/blob/main/Lista4_CarlosJozala.ipynb\" target=\"_parent\"><img src=\"https://colab.research.google.com/assets/colab-badge.svg\" alt=\"Open In Colab\"/></a>"
      ]
    },
    {
      "cell_type": "markdown",
      "source": [
        "Exercícios da Lista 4 - Repita\n",
        "\n",
        "*  Aluno: Carlos Eduardo da Silva Jozala\n",
        "*  Matrícula: 2015290029\n"
      ],
      "metadata": {
        "id": "xMiIDsLeCxH2"
      }
    },
    {
      "cell_type": "code",
      "source": [
        "#Questão 1 - Lista 4\n",
        "\n",
        "# Inicializando variáveis para armazenar as notas\n",
        "notas = []\n",
        "soma = 0\n",
        "\n",
        "# Laço para ler as notas dos alunos\n",
        "while True:\n",
        "    nota = float(input(\"Informe a nota do aluno: \"))\n",
        "    if nota < 0:\n",
        "        break\n",
        "    notas.append(nota)\n",
        "    soma += nota\n",
        "\n",
        "# Cálculo da média\n",
        "media = soma / len(notas)\n",
        "\n",
        "# Cálculo da maior e menor nota\n",
        "menor_nota = min(notas)\n",
        "maior_nota = max(notas)\n",
        "\n",
        "# Exibindo as notas, média, menor e maior nota\n",
        "print(\"Notas:\", notas)\n",
        "print(\"Média:\", media)\n",
        "print(\"Menor nota:\", menor_nota)\n",
        "print(\"Maior nota:\", maior_nota)"
      ],
      "metadata": {
        "id": "qP1kb1yxC1AU"
      },
      "execution_count": null,
      "outputs": []
    },
    {
      "cell_type": "code",
      "source": [
        "# Questão 2 - Lista 4\n",
        "\n",
        "while True:\n",
        "    num = int(input(\"Informe um número (-999 para sair): \"))\n",
        "    if num == -999:\n",
        "        break\n",
        "    print(\"Divisores de\", num, \": \", end=\"\")\n",
        "    for i in range(1, num + 1):\n",
        "        if num % i == 0:\n",
        "            print(i, end=\" \")\n",
        "    print()"
      ],
      "metadata": {
        "id": "ERKIonGtDgmy"
      },
      "execution_count": null,
      "outputs": []
    },
    {
      "cell_type": "code",
      "source": [
        "#questão03\n",
        "\n",
        "# Inicializando variáveis\n",
        "total_pousada = 0\n",
        "\n",
        "while True:\n",
        "    nome = input(\"Informe o nome do cliente: \")\n",
        "    dias = int(input(\"Informe a quantidade de dias em que o cliente ficou hospedado: \"))\n",
        "\n",
        "    if dias == 0:\n",
        "        break\n",
        "    \n",
        "    # Cálculo do valor da conta do cliente\n",
        "    valor_diaria = 300\n",
        "    if dias < 10:\n",
        "        valor_diaria += 15\n",
        "    else:\n",
        "        valor_diaria += 8\n",
        "    valor_conta = valor_diaria * dias\n",
        "\n",
        "    # Exibindo o nome e o valor da conta do cliente\n",
        "    print(\"Cliente:\", nome)\n",
        "    print(\"Valor da conta: R$\", valor_conta)\n",
        "\n",
        "    # Acumulando o total ganho pela pousada\n",
        "    total_pousada += valor_conta\n",
        "\n",
        "# Exibindo o total ganho pela pousada\n",
        "print(\"Total ganho pela pousada: R$\", total_pousada)#"
      ],
      "metadata": {
        "id": "1EvqfiM-EJ45"
      },
      "execution_count": null,
      "outputs": []
    },
    {
      "cell_type": "code",
      "source": [
        "Questão 4 - Lista 4 \n",
        "\n",
        "alunos_gastam_acima_200 = 0\n",
        "alunos_com_renda_pessoal_maior = 0\n",
        "total_alimentacao = 0\n",
        "total_despesas = 0\n",
        "total_renda = 0\n",
        "\n",
        "while True:\n",
        "    renda_familiar = float(input(\"Informe a renda familiar do aluno: \"))\n",
        "    if renda_familiar == 0:\n",
        "        break\n",
        "    \n",
        "    renda_pessoal = float(input(\"Informe a renda pessoal do aluno: \"))\n",
        "    gasto_alimentacao = float(input(\"Informe o total gasto com alimentação: \"))\n",
        "    gasto_despesas = float(input(\"Informe o total gasto com outras despesas: \"))\n",
        "\n",
        "    total_alimentacao += gasto_alimentacao\n",
        "    total_despesas += gasto_despesas\n",
        "    total_renda += renda_pessoal + renda_familiar\n",
        "\n",
        "    # Verificando se o aluno gasta acima de R$200,00 com outras despesas\n",
        "    if gasto_despesas > 200:\n",
        "        alunos_gastam_acima_200 += 1\n",
        "\n",
        "    # Verificando se o aluno tem renda pessoal maior que renda familiar\n",
        "    if renda_pessoal > renda_familiar:\n",
        "        alunos_com_renda_pessoal_maior += 1\n",
        "\n",
        "# Cálculo das porcentagens\n",
        "porcentagem_gastam_acima_200 = (alunos_gastam_acima_200 / total_alunos) * 100\n",
        "porcentagem_alimentacao = (total_alimentacao / total_renda) * 100\n",
        "porcentagem_despesas = (total_despesas / total_renda) * 100\n",
        "\n",
        "# Exibindo as informações\n",
        "print(\"Porcentagem de alunos que gastam acima de R$200,00 com outras despesas: \", porcentagem_gastam_acima_200, \"%\")\n",
        "print(\"Número de alunos com renda pessoal maior que renda familiar: \", alunos_com_renda_pessoal_maior)\n",
        "print(\"Porcentagem gasta com alimentação: \", porcentagem_alimentacao, \"%\")\n",
        "print(\"Porcentagem gasta com outras despesas: \", porcentagem_despesas, \"%\")"
      ],
      "metadata": {
        "id": "SaAXKPNqEJ_t"
      },
      "execution_count": null,
      "outputs": []
    },
    {
      "cell_type": "code",
      "source": [
        "# Questão 5 - Lista 4 \n",
        "\n",
        "# lista para armazenar informações das praias\n",
        "praias = []\n",
        "\n",
        "while True:\n",
        "    nome = input(\"Insira o nome da praia ou '@' para sair: \")\n",
        "    if nome == \"@\":\n",
        "        break\n",
        "    distancia = float(input(\"Insira a distância da praia em km: \"))\n",
        "    praias.append({\"nome\": nome, \"distancia\": distancia})\n",
        "\n",
        "# inicializando variáveis para armazenar a praia mais distante e as praias não-próprias\n",
        "praia_mais_distante = praias[0]\n",
        "praias_nao_proprias = []\n",
        "\n",
        "# encontrando a praia mais distante e as praias não-próprias\n",
        "for praia in praias:\n",
        "    if praia[\"distancia\"] > praia_mais_distante[\"distancia\"]:\n",
        "        praia_mais_distante = praia\n",
        "    if praia[\"distancia\"] > 10:\n",
        "        praias_nao_proprias.append(praia)\n",
        "\n",
        "# exibindo resultados\n",
        "print(\"A praia mais distante é:\", praia_mais_distante[\"nome\"])\n",
        "print(\"As praias não-próprias são:\")\n",
        "for praia in praias_nao_proprias:\n",
        "    print(\"-\", praia[\"nome\"], \"com distância de\", praia[\"distancia\"], \"km\")"
      ],
      "metadata": {
        "id": "1MUupRgvEKJ-"
      },
      "execution_count": null,
      "outputs": []
    },
    {
      "cell_type": "code",
      "source": [
        "# Questão 6 - Lista 4\n",
        "\n",
        "valores = []\n",
        "soma = 0\n",
        "\n",
        "while True:\n",
        "    valor = int(input(\"Insira um valor inteiro positivo ou -1 para sair: \"))\n",
        "    if valor == -1:\n",
        "        break\n",
        "    valores.append(valor)\n",
        "    soma += valor\n",
        "\n",
        "maior_valor_100_1000 = 0\n",
        "soma_valores_50_700 = 0\n",
        "quantidade_valores_50_700 = 0\n",
        "soma_valores_5_7600 = 0\n",
        "\n",
        "for valor in valores:\n",
        "    if valor > 100 and valor < 1000:\n",
        "        maior_valor_100_1000 = max(maior_valor_100_1000, valor)\n",
        "    if valor > 50 and valor < 700:\n",
        "        soma_valores_50_700 += valor\n",
        "        quantidade_valores_50_700 += 1\n",
        "    if valor > 5 and valor < 7600:\n",
        "        soma_valores_5_7600 += valor\n",
        "\n",
        "media_valores_50_700 = soma_valores_50_700 / quantidade_valores_50_700\n",
        "\n",
        "print(\"Maior valor entre 100 e 1000:\", maior_valor_100_1000)\n",
        "print(\"Média dos valores entre 50 e 700:\", media_valores_50_700)\n",
        "print(\"Soma dos valores entre 5 e 7600:\", soma_valores_5_7600)\n",
        "print(\"Soma de todos os valores lidos:\", soma)"
      ],
      "metadata": {
        "id": "zLMB7ZX_EKL4"
      },
      "execution_count": null,
      "outputs": []
    },
    {
      "cell_type": "code",
      "source": [
        "# Questão 7 - Lista 4\n",
        "\n",
        "# Obtém os valores de K, a1 e r do usuário\n",
        "k = int(input(\"Digite o valor de K: \"))\n",
        "a1 = int(input(\"Digite o valor de A1: \"))\n",
        "r = int(input(\"Digite o valor de r: \"))\n",
        "\n",
        "# Inicializa a variável soma com o valor de A1\n",
        "soma = a1\n",
        "\n",
        "# Realiza o somatório dos k primeiros termos\n",
        "for n in range(2, k+1):\n",
        "    an = a1 + (n-1)*r\n",
        "    soma += an\n",
        "\n",
        "# Imprime o resultado\n",
        "print(\"Soma dos k primeiros termos:\", soma)"
      ],
      "metadata": {
        "colab": {
          "base_uri": "https://localhost:8080/"
        },
        "id": "kLoxRP9_EKNe",
        "outputId": "24899297-b816-4403-8ff8-76f0a9a5f305"
      },
      "execution_count": null,
      "outputs": [
        {
          "output_type": "stream",
          "name": "stdout",
          "text": [
            "Digite o valor de K: 5\n",
            "Digite o valor de A1: 2\n",
            "Digite o valor de r: 3\n",
            "Soma dos k primeiros termos: 40\n"
          ]
        }
      ]
    },
    {
      "cell_type": "code",
      "source": [
        "# Questão 8 - Lista 4\n",
        "\n",
        "# Obtém os valores de ak, q e L do usuário\n",
        "ak = int(input(\"Digite o valor de ak: \"))\n",
        "q = int(input(\"Digite o valor de q: \"))\n",
        "L = int(input(\"Digite o valor de L: \"))\n",
        "\n",
        "# Inicializa a variável soma com o valor de ak\n",
        "soma = ak\n",
        "\n",
        "# Realiza o somatório dos primeiros L elementos\n",
        "for n in range(2, L+1):\n",
        "    an = ak * q ** (n - 1)\n",
        "    soma += an\n",
        "\n",
        "# Imprime o resultado\n",
        "print(\"Soma dos primeiros L elementos:\", soma)"
      ],
      "metadata": {
        "colab": {
          "base_uri": "https://localhost:8080/"
        },
        "id": "2crakm05EKPJ",
        "outputId": "46ebfdc6-be1b-463c-d755-60eaa06af53e"
      },
      "execution_count": null,
      "outputs": [
        {
          "output_type": "stream",
          "name": "stdout",
          "text": [
            "Digite o valor de ak: 3\n",
            "Digite o valor de q: 4\n",
            "Digite o valor de L: 2\n",
            "Soma dos primeiros L elementos: 15\n"
          ]
        }
      ]
    }
  ]
}