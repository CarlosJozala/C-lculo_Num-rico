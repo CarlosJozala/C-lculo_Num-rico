{
  "nbformat": 4,
  "nbformat_minor": 0,
  "metadata": {
    "colab": {
      "provenance": [],
      "authorship_tag": "ABX9TyMJLKEUlgJYJkedPQqtffGf",
      "include_colab_link": true
    },
    "kernelspec": {
      "name": "python3",
      "display_name": "Python 3"
    },
    "language_info": {
      "name": "python"
    }
  },
  "cells": [
    {
      "cell_type": "markdown",
      "metadata": {
        "id": "view-in-github",
        "colab_type": "text"
      },
      "source": [
        "<a href=\"https://colab.research.google.com/github/CarlosJozala/Calculo_Numerico/blob/main/Lista2_Carlos_Jozala.ipynb\" target=\"_parent\"><img src=\"https://colab.research.google.com/assets/colab-badge.svg\" alt=\"Open In Colab\"/></a>"
      ]
    },
    {
      "cell_type": "markdown",
      "source": [
        "\n",
        "\n",
        "> Atividade da Lista 2 - IF\n",
        "\n",
        "*   Aluno: Carlos Eduardo da Silva Jozala\n",
        "\n",
        "\n",
        "*   Matrícula: 2015290029\n",
        "\n",
        "\n",
        "\n",
        "\n",
        "\n",
        "\n"
      ],
      "metadata": {
        "id": "dqEVgFjDUzX6"
      }
    },
    {
      "cell_type": "code",
      "execution_count": null,
      "metadata": {
        "id": "LbVCOWwxMm7c"
      },
      "outputs": [],
      "source": [
        "# Questão 1 - Lista 2 \n",
        "\n",
        "num = int(input(\"Digite um número inteiro: \"))\n",
        "\n",
        "if num % 2 == 0:\n",
        "    print(\"par\")\n",
        "else:\n",
        "    print(\"impar\")"
      ]
    },
    {
      "cell_type": "code",
      "source": [
        "# Questão 2 - Lista 2\n",
        "\n",
        "patrono = input(\"Informe o nome do seu patrono: \")\n",
        "\n",
        "if patrono.lower() == \"cervo\":\n",
        "    print(\"Cervo é patrono do Harry Potter.\")\n",
        "else:\n",
        "    print(patrono, \"não é patrono do Harry Potter.\")\n"
      ],
      "metadata": {
        "colab": {
          "base_uri": "https://localhost:8080/"
        },
        "id": "rqH3vDTCUsvB",
        "outputId": "6eae631e-868f-4628-a101-199676fe964d"
      },
      "execution_count": null,
      "outputs": [
        {
          "output_type": "stream",
          "name": "stdout",
          "text": [
            "Informe o nome do seu patrono: cervo\n",
            "Cervo é patrono do Harry Potter.\n"
          ]
        }
      ]
    },
    {
      "cell_type": "code",
      "source": [
        "# Questão 3 - Lista 2 \n",
        "\n",
        "valor = int(input(\"Digite o valor a ser sacado: \"))\n",
        "\n",
        "notas_50 = valor // 50\n",
        "valor = valor % 50\n",
        "\n",
        "notas_10 = valor // 10\n",
        "valor = valor % 10\n",
        "\n",
        "notas_2 = valor // 2\n",
        "valor = valor % 2\n",
        "\n",
        "print(\"Notas de R$50: \", notas_50)\n",
        "print(\"Notas de R$10: \", notas_10)\n",
        "print(\"Notas de R$2: \", notas_2)"
      ],
      "metadata": {
        "id": "nM1JlTgTUsw9"
      },
      "execution_count": null,
      "outputs": []
    },
    {
      "cell_type": "code",
      "source": [
        "# Questão 4 - Lista 2 \n",
        "\n",
        "x = float(input(\"Informe a coordenada X: \"))\n",
        "y = float(input(\"Informe a coordenada Y: \"))\n",
        "\n",
        "if (2*x + y) == 3:\n",
        "    print(\"ponto pertence a reta\")\n",
        "else:\n",
        "    print(\"ponto não pertence a reta\")\n"
      ],
      "metadata": {
        "colab": {
          "base_uri": "https://localhost:8080/"
        },
        "id": "DQiexLgbUsyg",
        "outputId": "8e26cd72-878a-4576-eaac-7ad1bb6d380e"
      },
      "execution_count": null,
      "outputs": [
        {
          "output_type": "stream",
          "name": "stdout",
          "text": [
            "Informe a coordenada X: 2\n",
            "Informe a coordenada Y: 5\n",
            "ponto não pertence a reta\n"
          ]
        }
      ]
    },
    {
      "cell_type": "code",
      "source": [
        "# Questão 5 - Lista 2\n",
        "\n",
        "import decimal\n",
        "\n",
        "preco_original = decimal.Decimal(input(\"Digite o preço sem desconto da compra: \"))\n",
        "desconto = decimal.Decimal(input(\"Digite o percentual de desconto: \"))\n",
        "\n",
        "quantidade_desconto = (preco_original * desconto) / 100\n",
        "preco_final = preco_original - quantidade_desconto\n",
        "\n",
        "print(\"Valor a ser pago: R$\", preco_final.quantize(decimal.Decimal('0.00')))"
      ],
      "metadata": {
        "id": "XcpjRAW7Us8l"
      },
      "execution_count": null,
      "outputs": []
    },
    {
      "cell_type": "code",
      "source": [
        "# Questão 6 - Lista 2\n",
        "\n",
        "v = float (input(\"v0 \"))\n",
        "a = float (input(\"angulo \"))\n",
        "d = float (input(\"distancia \"))\n",
        "\n",
        "from math import radians\n",
        "from math import sin\n",
        "\n",
        "b = radians(a)\n",
        "r= v**2*sin(2*b)/9.8\n",
        "if (abs(d-r)<0.1):\n",
        "  print(\"sim\")\n",
        "else:\n",
        "  print(\"não\")  \n"
      ],
      "metadata": {
        "id": "sxRmHiwEXFFq",
        "colab": {
          "base_uri": "https://localhost:8080/"
        },
        "outputId": "eac7d5dd-db94-4e1b-e33f-8be78c6d660f"
      },
      "execution_count": null,
      "outputs": [
        {
          "output_type": "stream",
          "name": "stdout",
          "text": [
            "v0 0\n",
            "angulo 10\n",
            "distancia 500\n",
            "não\n"
          ]
        }
      ]
    },
    {
      "cell_type": "code",
      "source": [
        "# Questão 7 - Lista 2\n",
        "\n",
        "r = float (input(\"raio \"))\n",
        "h = float (input(\"altura \"))\n",
        "n = int (input(\"Volume da Esfera de Raio R - Opção 1 ou Volume da Calota Esférica de Raio R e Altura X - Opção 2 \"))\n",
        "\n",
        "from math import pi\n",
        "\n",
        "if (n==1):\n",
        "\n",
        "  v = (pi*h**2*(3*r-h))/3\n",
        "else:\n",
        "  v = (4*pi*r**3/3)-((pi*h**2*(3*r-h))/3)\n",
        "print(round(v,4))\n"
      ],
      "metadata": {
        "id": "LOyYypJ_XFHm",
        "colab": {
          "base_uri": "https://localhost:8080/"
        },
        "outputId": "63c350e0-7612-4e51-821e-9a46896eea27"
      },
      "execution_count": null,
      "outputs": [
        {
          "output_type": "stream",
          "name": "stdout",
          "text": [
            "raio 88\n",
            "altura 8\n",
            "Volume da Esfera de Raio R - Opção 1 ou Volume da Calota Esférica de Raio R e Altura X - Opção 2 1\n",
            "17157.2847\n"
          ]
        }
      ]
    },
    {
      "cell_type": "code",
      "source": [
        "# Questão 8 - Lista 2\n",
        "\n",
        "a = input(\"Escala: \")\n",
        "b = float(input(\"Temperatura: \"))\n",
        "\n",
        "if (a == \"F\"):\n",
        "  c = (5/9)*(b-32)\n",
        "  print(round(c,2))\n",
        "else:\n",
        "  F = (9/5)*b+32\n",
        "  print(round(F,2))\n"
      ],
      "metadata": {
        "id": "5GjPxcp7XFJp",
        "colab": {
          "base_uri": "https://localhost:8080/"
        },
        "outputId": "d88ebffd-7d4a-4ec7-bcb2-fb8e842f0525"
      },
      "execution_count": null,
      "outputs": [
        {
          "output_type": "stream",
          "name": "stdout",
          "text": [
            "Escala: Celsius\n",
            "Temperatura: 10\n",
            "50.0\n"
          ]
        }
      ]
    },
    {
      "cell_type": "code",
      "source": [
        "# Questão 9 - Lista 2\n",
        "\n",
        "senha = input(\"Insira a senha: \")\n",
        "\n",
        "# Isola os dígitos da segunda, quarta e sexta posições\n",
        "d1 = int(senha[1])\n",
        "d2 = int(senha[3])\n",
        "d3 = int(senha[5])\n",
        "\n",
        "# Isola os dígitos da primeira, terceira e quinta posições\n",
        "d4 = int(senha[0])\n",
        "d5 = int(senha[2])\n",
        "d6 = int(senha[4])\n",
        "\n",
        "# Somas dos dígitos\n",
        "soma1 = d1 + d2 + d3\n",
        "soma2 = d4 + d5 + d6\n",
        "\n",
        "# Verifica se a soma dos dígitos da segunda, quarta e sexta posições é múltiplo da soma dos dígitos da primeira, terceira e quinta posições\n",
        "if soma1 % soma2 == 0:\n",
        "    print(\"Acesso liberado\")\n",
        "else:\n",
        "    print(\"Senha inválida\")\n"
      ],
      "metadata": {
        "id": "mqcvNWDfXFNU",
        "colab": {
          "base_uri": "https://localhost:8080/"
        },
        "outputId": "1970bdba-9dc1-4264-f7c4-f277712aac39"
      },
      "execution_count": null,
      "outputs": [
        {
          "output_type": "stream",
          "name": "stdout",
          "text": [
            "Insira a senha: 342618\n",
            "Acesso liberado\n"
          ]
        }
      ]
    },
    {
      "cell_type": "code",
      "source": [
        "# Questão 10 - Lista 2\n",
        "\n",
        "preco = float(input(\"Informe o preço: \"))\n",
        "pagamento = float(input(\"Informe o pagamento: \"))\n",
        "\n",
        "if preco > pagamento:\n",
        "    print(\"Falta {:.2f}\".format(preco-pagamento))\n",
        "else:\n",
        "    print(\"Troco de {:.2f}\".format(pagamento-preco))\n"
      ],
      "metadata": {
        "colab": {
          "base_uri": "https://localhost:8080/"
        },
        "id": "gf-dQ-ZqXFPQ",
        "outputId": "ddff0a51-dddc-4f2c-b8f0-84f97f45da8d"
      },
      "execution_count": null,
      "outputs": [
        {
          "output_type": "stream",
          "name": "stdout",
          "text": [
            "Informe o preço: 100\n",
            "Informe o pagamento: 99\n",
            "Falta 1.00\n"
          ]
        }
      ]
    }
  ]
}